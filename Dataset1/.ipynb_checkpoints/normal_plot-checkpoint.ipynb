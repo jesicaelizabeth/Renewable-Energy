{
 "cells": [
  {
   "cell_type": "code",
   "execution_count": 1,
   "metadata": {},
   "outputs": [],
   "source": [
    "import pandas as pd\n",
    "import numpy as np\n",
    "import warnings\n",
    "warnings.filterwarnings('ignore')"
   ]
  },
  {
   "cell_type": "code",
   "execution_count": 2,
   "metadata": {},
   "outputs": [],
   "source": [
    "data_1 = pd.read_csv(\"datatraining.csv\")\n",
    "data_2 = pd.read_csv(\"datatest.csv\")\n",
    "data_3 = pd.read_csv(\"datatest2.csv\")\n",
    "\n",
    "uci_data = pd.concat([data_1, data_2, data_3])\n",
    "uci_data.date = pd.to_datetime(uci_data.date)\n",
    "uci_data.set_index('date', inplace=True)"
   ]
  },
  {
   "cell_type": "code",
   "execution_count": 3,
   "metadata": {},
   "outputs": [],
   "source": [
    "uci_sampling = uci_data.resample('5min').mean()"
   ]
  },
  {
   "cell_type": "code",
   "execution_count": 4,
   "metadata": {},
   "outputs": [],
   "source": [
    "uci_sampling = uci_sampling.interpolate(method ='linear', limit_direction ='forward')"
   ]
  },
  {
   "cell_type": "code",
   "execution_count": 5,
   "metadata": {},
   "outputs": [],
   "source": [
    "uci_sampling['Occupancy'] = uci_sampling['Occupancy'].apply(np.ceil)"
   ]
  },
  {
   "cell_type": "code",
   "execution_count": 6,
   "metadata": {},
   "outputs": [],
   "source": [
    "def normalize(dataset):\n",
    "    dataNorm=((dataset-dataset.min())/(dataset.max() - dataset.min()))\n",
    "    dataNorm['Occupancy'] = dataset['Occupancy']\n",
    "    return dataNorm"
   ]
  },
  {
   "cell_type": "code",
   "execution_count": 7,
   "metadata": {},
   "outputs": [],
   "source": [
    "datanorm = normalize(uci_sampling)"
   ]
  },
  {
   "cell_type": "code",
   "execution_count": 8,
   "metadata": {},
   "outputs": [],
   "source": [
    "X_train = datanorm.iloc[0:3639, 0:5].values\n",
    "y_train = datanorm.iloc[0:3639, 5].apply(np.ceil)\n",
    "y_train = y_train.astype(int).values\n",
    "\n",
    "X_test = datanorm.iloc[3639:-1, 0:5].values\n",
    "y_test = datanorm.iloc[3639:-1, 5].apply(np.ceil)\n",
    "y_test = y_test.astype(int).values"
   ]
  },
  {
   "cell_type": "markdown",
   "metadata": {},
   "source": [
    "## SVC"
   ]
  },
  {
   "cell_type": "code",
   "execution_count": 9,
   "metadata": {},
   "outputs": [
    {
     "data": {
      "text/plain": [
       "0.9889559283034162"
      ]
     },
     "execution_count": 9,
     "metadata": {},
     "output_type": "execute_result"
    }
   ],
   "source": [
    "from sklearn.svm import SVC\n",
    "from sklearn.metrics import balanced_accuracy_score\n",
    "\n",
    "mysvm = SVC(C=25, cache_size=200, class_weight=None, coef0=0.0,\n",
    "  decision_function_shape='ovr', degree=3, gamma='auto_deprecated',\n",
    "  kernel='linear', max_iter=-1, probability=False, random_state=None,\n",
    "  shrinking=True, tol=0.001, verbose=False)\n",
    "mysvm = mysvm.fit(X_train, y_train)\n",
    "my_svmpredict = mysvm.predict(X_test)\n",
    "acc_svmtest = balanced_accuracy_score(y_test, my_svmpredict)\n",
    "acc_svmtest"
   ]
  },
  {
   "cell_type": "markdown",
   "metadata": {},
   "source": [
    "## Random Forest"
   ]
  },
  {
   "cell_type": "code",
   "execution_count": 10,
   "metadata": {},
   "outputs": [
    {
     "data": {
      "text/plain": [
       "0.9809384355920459"
      ]
     },
     "execution_count": 10,
     "metadata": {},
     "output_type": "execute_result"
    }
   ],
   "source": [
    "from sklearn.ensemble import RandomForestClassifier\n",
    "\n",
    "clfrf = RandomForestClassifier(bootstrap = True,max_depth= 80,max_features= 2,min_samples_leaf= 3,min_samples_split= 12,\n",
    "  n_estimators= 100,random_state = 6)\n",
    "RFfit = clfrf.fit(X_train, y_train)\n",
    "RFpred = clfrf.predict(X_test)\n",
    "acc_rftest = balanced_accuracy_score(y_test, RFpred)\n",
    "acc_rftest"
   ]
  },
  {
   "cell_type": "markdown",
   "metadata": {},
   "source": [
    "## DTC"
   ]
  },
  {
   "cell_type": "code",
   "execution_count": 11,
   "metadata": {},
   "outputs": [
    {
     "data": {
      "text/plain": [
       "0.9809939991371308"
      ]
     },
     "execution_count": 11,
     "metadata": {},
     "output_type": "execute_result"
    }
   ],
   "source": [
    "from sklearn import metrics\n",
    "from sklearn.tree import DecisionTreeClassifier\n",
    "\n",
    "model = DecisionTreeClassifier()\n",
    "modelfitness = model.fit(X_train, y_train)\n",
    "DTCpredicted = modelfitness.predict(X_test)\n",
    "dtcbalanced = balanced_accuracy_score(y_test,DTCpredicted)\n",
    "dtcbalanced"
   ]
  },
  {
   "cell_type": "markdown",
   "metadata": {},
   "source": [
    "## MLP"
   ]
  },
  {
   "cell_type": "code",
   "execution_count": 12,
   "metadata": {},
   "outputs": [
    {
     "data": {
      "text/plain": [
       "0.9554837950554982"
      ]
     },
     "execution_count": 12,
     "metadata": {},
     "output_type": "execute_result"
    }
   ],
   "source": [
    "from sklearn.neural_network import MLPClassifier\n",
    "\n",
    "clfMLP = MLPClassifier(solver='lbfgs', alpha=1e-5, n_iter_no_change=1000,\n",
    "                hidden_layer_sizes=(10, 3), random_state=6,learning_rate_init=0.3)\n",
    "MLPfitness = clfMLP.fit(X_train, y_train)\n",
    "ypredmlp = MLPfitness.predict(X_test)\n",
    "acc_mlptest = balanced_accuracy_score(y_test, ypredmlp)\n",
    "acc_mlptest"
   ]
  },
  {
   "cell_type": "markdown",
   "metadata": {},
   "source": [
    "## KNN"
   ]
  },
  {
   "cell_type": "code",
   "execution_count": 13,
   "metadata": {},
   "outputs": [
    {
     "data": {
      "text/plain": [
       "0.9752186588921283"
      ]
     },
     "execution_count": 13,
     "metadata": {},
     "output_type": "execute_result"
    }
   ],
   "source": [
    "from sklearn.neighbors import KNeighborsClassifier\n",
    "\n",
    "neigh = KNeighborsClassifier(metric ='manhattan', n_neighbors= 3, weights = 'distance')\n",
    "knnfitness = neigh.fit(X_train, y_train)\n",
    "knnpredict = neigh.predict(X_test)\n",
    "acc_knntest = balanced_accuracy_score(y_test, knnpredict)\n",
    "acc_knntest"
   ]
  },
  {
   "cell_type": "markdown",
   "metadata": {},
   "source": [
    "## ANN"
   ]
  },
  {
   "cell_type": "code",
   "execution_count": 14,
   "metadata": {
    "scrolled": true
   },
   "outputs": [
    {
     "name": "stderr",
     "output_type": "stream",
     "text": [
      "Using TensorFlow backend.\n",
      "WARNING: Logging before flag parsing goes to stderr.\n",
      "W0831 18:25:22.966562 10520 deprecation_wrapper.py:119] From C:\\Users\\Jesica\\Anaconda3\\envs\\gpu\\lib\\site-packages\\keras\\backend\\tensorflow_backend.py:74: The name tf.get_default_graph is deprecated. Please use tf.compat.v1.get_default_graph instead.\n",
      "\n",
      "W0831 18:25:22.986993 10520 deprecation_wrapper.py:119] From C:\\Users\\Jesica\\Anaconda3\\envs\\gpu\\lib\\site-packages\\keras\\backend\\tensorflow_backend.py:517: The name tf.placeholder is deprecated. Please use tf.compat.v1.placeholder instead.\n",
      "\n",
      "W0831 18:25:22.988990 10520 deprecation_wrapper.py:119] From C:\\Users\\Jesica\\Anaconda3\\envs\\gpu\\lib\\site-packages\\keras\\backend\\tensorflow_backend.py:4138: The name tf.random_uniform is deprecated. Please use tf.random.uniform instead.\n",
      "\n",
      "W0831 18:25:23.008962 10520 deprecation_wrapper.py:119] From C:\\Users\\Jesica\\Anaconda3\\envs\\gpu\\lib\\site-packages\\keras\\optimizers.py:790: The name tf.train.Optimizer is deprecated. Please use tf.compat.v1.train.Optimizer instead.\n",
      "\n",
      "W0831 18:25:23.024919 10520 deprecation_wrapper.py:119] From C:\\Users\\Jesica\\Anaconda3\\envs\\gpu\\lib\\site-packages\\keras\\backend\\tensorflow_backend.py:3376: The name tf.log is deprecated. Please use tf.math.log instead.\n",
      "\n",
      "W0831 18:25:23.028910 10520 deprecation.py:323] From C:\\Users\\Jesica\\Anaconda3\\envs\\gpu\\lib\\site-packages\\tensorflow\\python\\ops\\nn_impl.py:180: add_dispatch_support.<locals>.wrapper (from tensorflow.python.ops.array_ops) is deprecated and will be removed in a future version.\n",
      "Instructions for updating:\n",
      "Use tf.where in 2.0, which has the same broadcast rule as np.where\n",
      "W0831 18:25:23.214407 10520 deprecation_wrapper.py:119] From C:\\Users\\Jesica\\Anaconda3\\envs\\gpu\\lib\\site-packages\\keras\\backend\\tensorflow_backend.py:986: The name tf.assign_add is deprecated. Please use tf.compat.v1.assign_add instead.\n",
      "\n"
     ]
    },
    {
     "data": {
      "text/plain": [
       "0.9802095726182849"
      ]
     },
     "execution_count": 14,
     "metadata": {},
     "output_type": "execute_result"
    }
   ],
   "source": [
    "import numpy as np\n",
    "from keras import models\n",
    "from keras import layers\n",
    "from keras.wrappers.scikit_learn import KerasClassifier\n",
    "from sklearn.model_selection import cross_val_score\n",
    "from sklearn.datasets import make_classification\n",
    "\n",
    "np.random.seed(0)\n",
    "\n",
    "def create_network():\n",
    "    \n",
    "    network = models.Sequential()\n",
    "\n",
    "    network.add(layers.Dense(units=30, activation='relu', input_shape=(X_train.shape[1],)))\n",
    "    network.add(layers.Dense(units=1, activation='sigmoid'))\n",
    "\n",
    "    network.compile(loss='binary_crossentropy', # Cross-entropy\n",
    "                    optimizer='rmsprop', # Root Mean Square Propagation\n",
    "                    metrics=['accuracy']) # Accuracy performance metric\n",
    "    \n",
    "    return network\n",
    "\n",
    "ann = create_network()\n",
    "\n",
    "ann.fit(X_train, y_train, epochs=100, batch_size=100, verbose=0)\n",
    "annpredict = ann.predict_classes(X_test)\n",
    "acc_anntest = balanced_accuracy_score(y_test, annpredict)\n",
    "acc_anntest"
   ]
  },
  {
   "cell_type": "markdown",
   "metadata": {},
   "source": [
    "## Plot data"
   ]
  },
  {
   "cell_type": "code",
   "execution_count": 15,
   "metadata": {},
   "outputs": [
    {
     "data": {
      "text/plain": [
       "array([1, 1, 1, 1, 1, 1, 1, 1, 1, 1, 1, 1, 1, 1, 1, 1, 1, 0, 0, 0, 0, 0,\n",
       "       1, 1, 1, 1, 1, 1, 1, 1, 1, 1, 1, 1, 1, 1, 1, 1, 1, 1, 1, 1, 1, 1,\n",
       "       1, 1, 1, 1, 1, 1])"
      ]
     },
     "execution_count": 15,
     "metadata": {},
     "output_type": "execute_result"
    }
   ],
   "source": [
    "y_test[650:700]"
   ]
  },
  {
   "cell_type": "code",
   "execution_count": 16,
   "metadata": {},
   "outputs": [],
   "source": [
    "ground_truth = y_test[600:750]\n",
    "svc_result = my_svmpredict[600:750]\n",
    "rfc_result = RFpred[600:750]\n",
    "dtc_result = DTCpredicted[600:750]\n",
    "mlp_result = ypredmlp[600:750]\n",
    "knn_result = knnpredict[600:750]\n",
    "ann_result = annpredict[600:750]"
   ]
  },
  {
   "cell_type": "code",
   "execution_count": null,
   "metadata": {},
   "outputs": [],
   "source": [
    "import matplotlib.pyplot as plt\n",
    "%matplotlib inline\n",
    "\n",
    "plt.figure(figsize = (6,4))\n",
    "plt.plot(ground_truth, color='b',dashes =(30,5,10,5), marker = '*', markersize = 10, label = 'ground truth')\n",
    "plt.plot(svc_result, color='g', dashes =(30,5,10,5), label = 'SVM', marker = 'o', markersize = 8)\n",
    "plt.plot(rfc_result, color= 'r', dashes =(30,5,10,5), label = 'RF', marker = 'x', markersize = 8)\n",
    "plt.plot(dtc_result, color= 'c', dashes =(30,5,10,5), label = 'DTC', marker = 'v', markersize = 8)\n",
    "plt.plot(mlp_result, color='m', dashes =(30,5,10,5), label = 'MLP', marker = '+', markersize = 8)\n",
    "plt.plot(knn_result, color= 'y', dashes =(30,5,10,5), label = 'KNN', marker = '3', markersize = 8)\n",
    "plt.plot(ann_result, color= 'k', dashes =(30,5,10,5), label = 'ANN', marker = '2', markersize = 8)\n",
    "plt.legend()\n",
    "\n",
    "plt.title(\"Plot Y_Test\")\n",
    "plt.xlabel(\"X_Test\")\n",
    "plt.ylabel(\"Class\")\n",
    "plt.savefig('accuracy.png')\n",
    "plt.show()"
   ]
  },
  {
   "cell_type": "code",
   "execution_count": null,
   "metadata": {},
   "outputs": [],
   "source": [
    "plt.plot(ground_truth, color='b',dashes =(30,5,10,5), marker = '*', markersize = 10, label = 'ground truth')\n",
    "plt.plot(svc_result, color='g', dashes =(30,5,10,5), label = 'SVM', marker = 'o', markersize = 8)"
   ]
  },
  {
   "cell_type": "code",
   "execution_count": null,
   "metadata": {},
   "outputs": [],
   "source": []
  },
  {
   "cell_type": "code",
   "execution_count": null,
   "metadata": {},
   "outputs": [],
   "source": []
  },
  {
   "cell_type": "code",
   "execution_count": null,
   "metadata": {},
   "outputs": [],
   "source": []
  }
 ],
 "metadata": {
  "kernelspec": {
   "display_name": "Python 3",
   "language": "python",
   "name": "python3"
  },
  "language_info": {
   "codemirror_mode": {
    "name": "ipython",
    "version": 3
   },
   "file_extension": ".py",
   "mimetype": "text/x-python",
   "name": "python",
   "nbconvert_exporter": "python",
   "pygments_lexer": "ipython3",
   "version": "3.7.4"
  }
 },
 "nbformat": 4,
 "nbformat_minor": 2
}
