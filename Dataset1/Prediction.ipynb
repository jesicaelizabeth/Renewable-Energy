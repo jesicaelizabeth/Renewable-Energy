{
 "cells": [
  {
   "cell_type": "code",
   "execution_count": 1,
   "metadata": {},
   "outputs": [],
   "source": [
    "import numpy as np\n",
    "from sklearn.svm import SVR \n",
    "import matplotlib.pyplot as plt \n",
    "import pandas as pd "
   ]
  },
  {
   "cell_type": "code",
   "execution_count": 2,
   "metadata": {},
   "outputs": [],
   "source": [
    "data_1 = pd.read_csv(\"datatraining.csv\")\n",
    "data_2 = pd.read_csv(\"datatest.csv\")\n",
    "data_3 = pd.read_csv(\"datatest2.csv\")\n",
    "\n",
    "uci_data = pd.concat([data_1, data_2, data_3])\n",
    "uci_data.date = pd.to_datetime(uci_data.date)\n",
    "uci_data.set_index('date', inplace=True)"
   ]
  },
  {
   "cell_type": "code",
   "execution_count": 3,
   "metadata": {},
   "outputs": [],
   "source": [
    "uci_sampling = uci_data.resample('5min').mean()"
   ]
  },
  {
   "cell_type": "code",
   "execution_count": 4,
   "metadata": {},
   "outputs": [],
   "source": [
    "def normalize(dataset):\n",
    "    dataNorm=((dataset-dataset.min())/(dataset.max() - dataset.min()))\n",
    "    dataNorm['Occupancy'] = dataset['Occupancy']\n",
    "    return dataNorm"
   ]
  },
  {
   "cell_type": "code",
   "execution_count": null,
   "metadata": {},
   "outputs": [],
   "source": [
    "datanorm = normalize(uci_sampling)"
   ]
  },
  {
   "cell_type": "code",
   "execution_count": null,
   "metadata": {},
   "outputs": [],
   "source": [
    "df = pd.read_excel"
   ]
  },
  {
   "cell_type": "code",
   "execution_count": null,
   "metadata": {},
   "outputs": [],
   "source": [
    "# Get data function\n",
    "def get_data(df):  \n",
    "    data = df.copy()\n",
    "    data['date'] = data['date'].str.split('-').str[2]\n",
    "    data['date'] = pd.to_numeric(data['date'])\n",
    "    return [ data['date'].tolist(), data['close'].tolist() ] # Convert Series to list\n",
    "dates, prices = get_data(df)"
   ]
  },
  {
   "cell_type": "code",
   "execution_count": null,
   "metadata": {},
   "outputs": [],
   "source": [
    "def predict_prices(dates, prices, x):\n",
    "    dates = np.reshape(dates,(len(dates), 1)) # convert to 1xn dimension\n",
    "    x = np.reshape(x,(len(x), 1))\n",
    "    \n",
    "    svr_lin  = SVR(kernel='linear', C=1e3)\n",
    "    svr_poly = SVR(kernel='poly', C=1e3, degree=2)\n",
    "    svr_rbf = SVR(kernel='rbf', C=1e3, gamma=0.1)\n",
    "    \n",
    "    # Fit regression model\n",
    "    svr_lin .fit(dates, prices)\n",
    "    svr_poly.fit(dates, prices)\n",
    "    svr_rbf.fit(dates, prices)\n",
    "    \n",
    "    plt.scatter(dates, prices, c='k', label='Data')\n",
    "    plt.plot(dates, svr_lin.predict(dates), c='g', label='Linear model')\n",
    "    plt.plot(dates, svr_rbf.predict(dates), c='r', label='RBF model')    \n",
    "    plt.plot(dates, svr_poly.predict(dates), c='b', label='Polynomial model')\n",
    "    \n",
    "    plt.xlabel('Date')\n",
    "    plt.ylabel('Price')\n",
    "    plt.title('Support Vector Regression')\n",
    "    plt.legend()\n",
    "    plt.show()\n",
    "    \n",
    "    return svr_rbf.predict(x)[0], svr_lin.predict(x)[0], svr_poly.predict(x)[0]"
   ]
  }
 ],
 "metadata": {
  "kernelspec": {
   "display_name": "Python 3",
   "language": "python",
   "name": "python3"
  },
  "language_info": {
   "codemirror_mode": {
    "name": "ipython",
    "version": 3
   },
   "file_extension": ".py",
   "mimetype": "text/x-python",
   "name": "python",
   "nbconvert_exporter": "python",
   "pygments_lexer": "ipython3",
   "version": "3.7.4"
  }
 },
 "nbformat": 4,
 "nbformat_minor": 2
}
