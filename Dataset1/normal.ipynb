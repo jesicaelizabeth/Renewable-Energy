{
 "cells": [
  {
   "cell_type": "code",
   "execution_count": 1,
   "metadata": {},
   "outputs": [],
   "source": [
    "import pandas as pd\n",
    "import numpy as np\n",
    "import warnings\n",
    "warnings.filterwarnings('ignore')"
   ]
  },
  {
   "cell_type": "code",
   "execution_count": 2,
   "metadata": {},
   "outputs": [],
   "source": [
    "data_1 = pd.read_csv(\"datatraining.csv\")\n",
    "data_2 = pd.read_csv(\"datatest.csv\")\n",
    "data_3 = pd.read_csv(\"datatest2.csv\")\n",
    "\n",
    "uci_data = pd.concat([data_1, data_2, data_3])\n",
    "uci_data.date = pd.to_datetime(uci_data.date)\n",
    "uci_data.set_index('date', inplace=True)"
   ]
  },
  {
   "cell_type": "markdown",
   "metadata": {},
   "source": [
    "# Resampling"
   ]
  },
  {
   "cell_type": "code",
   "execution_count": 3,
   "metadata": {},
   "outputs": [],
   "source": [
    "uci_sampling = uci_data.resample('5min').mean()"
   ]
  },
  {
   "cell_type": "markdown",
   "metadata": {},
   "source": [
    "# Fill Missing Value"
   ]
  },
  {
   "cell_type": "code",
   "execution_count": 4,
   "metadata": {},
   "outputs": [],
   "source": [
    "uci_sampling = uci_sampling.interpolate(method ='linear', limit_direction ='forward')"
   ]
  },
  {
   "cell_type": "code",
   "execution_count": 5,
   "metadata": {},
   "outputs": [],
   "source": [
    "uci_sampling['Occupancy'] = uci_sampling['Occupancy'].apply(np.ceil)"
   ]
  },
  {
   "cell_type": "code",
   "execution_count": 6,
   "metadata": {},
   "outputs": [],
   "source": [
    "true_class = uci_sampling.values[3628: , 5]"
   ]
  },
  {
   "cell_type": "markdown",
   "metadata": {},
   "source": [
    "# Normalize"
   ]
  },
  {
   "cell_type": "code",
   "execution_count": 7,
   "metadata": {},
   "outputs": [],
   "source": [
    "def normalize(dataset):\n",
    "    dataNorm=((dataset-dataset.min())/(dataset.max() - dataset.min()))\n",
    "    dataNorm['Occupancy'] = dataset['Occupancy']\n",
    "    return dataNorm"
   ]
  },
  {
   "cell_type": "code",
   "execution_count": 8,
   "metadata": {},
   "outputs": [],
   "source": [
    "datanorm = normalize(uci_sampling)"
   ]
  },
  {
   "cell_type": "code",
   "execution_count": 9,
   "metadata": {},
   "outputs": [],
   "source": [
    "X = datanorm.iloc[:,0:5]\n",
    "y = datanorm.iloc[:,5].apply(np.ceil)\n",
    "y = y.astype(int)"
   ]
  },
  {
   "cell_type": "markdown",
   "metadata": {},
   "source": [
    "# Stratified K-fold"
   ]
  },
  {
   "cell_type": "code",
   "execution_count": 10,
   "metadata": {},
   "outputs": [],
   "source": [
    "import numpy as np\n",
    "from sklearn.model_selection import StratifiedKFold\n",
    "skf = StratifiedKFold(n_splits=10,random_state=None, shuffle=False)\n",
    "skf.get_n_splits(X,y)\n",
    "\n",
    "Xtrain = []\n",
    "ytrain = []\n",
    "Xtest = []\n",
    "ytest = []\n",
    "\n",
    "for train_index, test_index in skf.split(X,y):    \n",
    "    X_train, X_test = X.values[train_index], X.values[test_index]\n",
    "    y_train, y_test = y.values[train_index], y.values[test_index]\n",
    "    Xtrain.append(X_train)\n",
    "    ytrain.append(y_train)\n",
    "    Xtest.append(X_test)\n",
    "    ytest.append(y_test)\n",
    "\n",
    "for i in range (10):\n",
    "    Xtrain[i] = pd.DataFrame(columns=['temp', 'humid', 'light', 'co2', 'humid_ratio'], data = Xtrain[i])\n",
    "    ytrain[i] = pd.DataFrame(columns=['Occupancy'], data = ytrain[i])\n",
    "    Xtest[i] = pd.DataFrame(columns=['temp', 'humid', 'light', 'co2', 'humid_ratio'], data = Xtest[i])\n",
    "    ytest[i] = pd.DataFrame(columns=['Occupancy'], data = ytest[i])"
   ]
  },
  {
   "cell_type": "code",
   "execution_count": 11,
   "metadata": {},
   "outputs": [],
   "source": [
    "predict_new = pd.read_excel('prediction_new_rev.xlsx')"
   ]
  },
  {
   "cell_type": "markdown",
   "metadata": {},
   "source": [
    "# SVC"
   ]
  },
  {
   "cell_type": "code",
   "execution_count": 11,
   "metadata": {},
   "outputs": [
    {
     "name": "stdout",
     "output_type": "stream",
     "text": [
      "SVC(C=25, cache_size=200, class_weight=None, coef0=0.0,\n",
      "  decision_function_shape='ovr', degree=3, gamma='auto_deprecated',\n",
      "  kernel='linear', max_iter=-1, probability=False, random_state=None,\n",
      "  shrinking=True, tol=0.001, verbose=False)\n",
      "balanced accuracy = 0.9889520396506402\n"
     ]
    }
   ],
   "source": [
    "from sklearn.svm import SVC\n",
    "from sklearn.metrics import balanced_accuracy_score\n",
    "\n",
    "accsvm_4 = []\n",
    "for i in range(10):\n",
    "    mysvm = SVC(C=25, cache_size=200, class_weight=None, coef0=0.0,\n",
    "  decision_function_shape='ovr', degree=3, gamma='auto_deprecated',\n",
    "  kernel='linear', max_iter=-1, probability=False, random_state=None,\n",
    "  shrinking=True, tol=0.001, verbose=False)\n",
    "    mysvm = mysvm.fit(Xtrain[i], ytrain[i])\n",
    "    my_svmpredict = mysvm.predict(Xtest[i])\n",
    "    acc_svmtest = balanced_accuracy_score(ytest[i], my_svmpredict)\n",
    "    accsvm_4.append(acc_svmtest)\n",
    "print(mysvm)\n",
    "print(\"balanced accuracy =\", np.mean(accsvm_4))"
   ]
  },
  {
   "cell_type": "code",
   "execution_count": 12,
   "metadata": {},
   "outputs": [],
   "source": [
    "from sklearn.svm import SVC\n",
    "svmlearn = SVC(C=25, cache_size=200, class_weight=None, coef0=0.0,\n",
    "  decision_function_shape='ovr', degree=3, gamma='auto_deprecated',\n",
    "  kernel='linear', max_iter=-1, probability=False, random_state=None,\n",
    "  shrinking=True, tol=0.001, verbose=False)\n",
    "svm = svmlearn.fit(X,y)"
   ]
  },
  {
   "cell_type": "code",
   "execution_count": 14,
   "metadata": {},
   "outputs": [],
   "source": [
    "new_prediction = svm.predict(predict_new)"
   ]
  },
  {
   "cell_type": "code",
   "execution_count": 15,
   "metadata": {},
   "outputs": [
    {
     "data": {
      "text/plain": [
       "0.5"
      ]
     },
     "execution_count": 15,
     "metadata": {},
     "output_type": "execute_result"
    }
   ],
   "source": [
    "from sklearn.metrics import balanced_accuracy_score\n",
    "acc_svm = balanced_accuracy_score(true_class, new_prediction)\n",
    "acc_svm"
   ]
  },
  {
   "cell_type": "markdown",
   "metadata": {},
   "source": [
    "# Random Forest"
   ]
  },
  {
   "cell_type": "code",
   "execution_count": 27,
   "metadata": {},
   "outputs": [
    {
     "name": "stdout",
     "output_type": "stream",
     "text": [
      "balanced accuracy = 0.9799336439745587\n"
     ]
    }
   ],
   "source": [
    "from sklearn.ensemble import RandomForestClassifier\n",
    "\n",
    "accrf = []\n",
    "for i in range(10):\n",
    "    clfrf = RandomForestClassifier(bootstrap = True,max_depth= 80,max_features= 2,min_samples_leaf= 3,min_samples_split= 12,\n",
    "  n_estimators= 100,random_state = 6)\n",
    "    RFfit = clfrf.fit(Xtrain[i], ytrain[i])\n",
    "    RFpred = clfrf.predict(Xtest[i])\n",
    "    acc_rftest = balanced_accuracy_score(ytest[i], RFpred)\n",
    "    accrf.append(acc_rftest)\n",
    "\n",
    "print(\"balanced accuracy =\", np.mean(accrf))"
   ]
  },
  {
   "cell_type": "code",
   "execution_count": 16,
   "metadata": {},
   "outputs": [],
   "source": [
    "from sklearn.ensemble import RandomForestClassifier\n",
    "rf_classifier = RandomForestClassifier(bootstrap = True,max_depth= 80,max_features= 2,min_samples_leaf= 3,min_samples_split= 12,\n",
    "  n_estimators= 100,random_state = 6)\n",
    "rf_learn = rf_classifier.fit(X,y)"
   ]
  },
  {
   "cell_type": "code",
   "execution_count": 17,
   "metadata": {},
   "outputs": [],
   "source": [
    "new_predict_RF = rf_learn.predict(predict_new)"
   ]
  },
  {
   "cell_type": "code",
   "execution_count": 18,
   "metadata": {},
   "outputs": [
    {
     "data": {
      "text/plain": [
       "0.1908177905308465"
      ]
     },
     "execution_count": 18,
     "metadata": {},
     "output_type": "execute_result"
    }
   ],
   "source": [
    "from sklearn.metrics import balanced_accuracy_score\n",
    "acc_RF = balanced_accuracy_score(true_class, new_predict_RF)\n",
    "acc_RF"
   ]
  },
  {
   "cell_type": "markdown",
   "metadata": {},
   "source": [
    "# Decision Tree "
   ]
  },
  {
   "cell_type": "code",
   "execution_count": 19,
   "metadata": {},
   "outputs": [
    {
     "name": "stdout",
     "output_type": "stream",
     "text": [
      "MAE= 0.9474619505013129\n"
     ]
    }
   ],
   "source": [
    "from sklearn import metrics\n",
    "from sklearn.tree import DecisionTreeClassifier\n",
    "\n",
    "balanced = []\n",
    "y_preddtc = []\n",
    "for i in range (10):\n",
    "    model = DecisionTreeClassifier()\n",
    "    modelfitness = model.fit(Xtrain[i], ytrain[i])\n",
    "    DTCpredicted = modelfitness.predict(Xtest[i])\n",
    "    y_preddtc.append(DTCpredicted)\n",
    "    dtcbalanced = balanced_accuracy_score(ytest[i],DTCpredicted)\n",
    "    balanced.append(dtcbalanced)\n",
    "    averagedtc = np.mean(balanced)\n",
    "print(\"MAE=\" , averagedtc) "
   ]
  },
  {
   "cell_type": "code",
   "execution_count": 20,
   "metadata": {},
   "outputs": [],
   "source": [
    "from sklearn.tree import DecisionTreeClassifier\n",
    "dt_classifier = DecisionTreeClassifier()\n",
    "dt_learn = dt_classifier.fit(X,y)"
   ]
  },
  {
   "cell_type": "code",
   "execution_count": 21,
   "metadata": {},
   "outputs": [],
   "source": [
    "new_predict_dt = dt_learn.predict(predict_new)"
   ]
  },
  {
   "cell_type": "code",
   "execution_count": 22,
   "metadata": {},
   "outputs": [
    {
     "data": {
      "text/plain": [
       "0.1908177905308465"
      ]
     },
     "execution_count": 22,
     "metadata": {},
     "output_type": "execute_result"
    }
   ],
   "source": [
    "from sklearn.metrics import balanced_accuracy_score\n",
    "acc_dt = balanced_accuracy_score(true_class, new_predict_dt)\n",
    "acc_dt"
   ]
  },
  {
   "cell_type": "markdown",
   "metadata": {},
   "source": [
    "# MLP"
   ]
  },
  {
   "cell_type": "code",
   "execution_count": 13,
   "metadata": {},
   "outputs": [
    {
     "name": "stdout",
     "output_type": "stream",
     "text": [
      "MLPClassifier(activation='relu', alpha=1e-05, batch_size='auto', beta_1=0.9,\n",
      "       beta_2=0.999, early_stopping=False, epsilon=1e-08,\n",
      "       hidden_layer_sizes=(10, 3), learning_rate='constant',\n",
      "       learning_rate_init=0.3, max_iter=200, momentum=0.9,\n",
      "       n_iter_no_change=1000, nesterovs_momentum=True, power_t=0.5,\n",
      "       random_state=6, shuffle=True, solver='lbfgs', tol=0.0001,\n",
      "       validation_fraction=0.1, verbose=False, warm_start=False)\n",
      "balanced accuracy = 0.9774610500083545\n"
     ]
    }
   ],
   "source": [
    "from sklearn.neural_network import MLPClassifier\n",
    "\n",
    "accmlp = []\n",
    "for i in range(10):\n",
    "    clfMLP = MLPClassifier(solver='lbfgs', alpha=1e-5, n_iter_no_change=1000,\n",
    "                hidden_layer_sizes=(10, 3), random_state=6,learning_rate_init=0.3)\n",
    "    MLPfitness = clfMLP.fit(Xtrain[i],ytrain[i])\n",
    "    ypredmlp = MLPfitness.predict(Xtest[i])\n",
    "    acc_mlptest = balanced_accuracy_score(ytest[i], ypredmlp)\n",
    "    accmlp.append(acc_mlptest)\n",
    "print(clfMLP)\n",
    "print(\"balanced accuracy =\", np.mean(accmlp))"
   ]
  },
  {
   "cell_type": "code",
   "execution_count": 24,
   "metadata": {},
   "outputs": [],
   "source": [
    "from sklearn.neural_network import MLPClassifier\n",
    "\n",
    "mlp_classifier = MLPClassifier(solver='lbfgs', alpha=1e-5, n_iter_no_change=1000,\n",
    "                hidden_layer_sizes=(10, 3), random_state=6,learning_rate_init=0.3)\n",
    "mlp_learn = mlp_classifier.fit(X,y)"
   ]
  },
  {
   "cell_type": "code",
   "execution_count": 25,
   "metadata": {},
   "outputs": [],
   "source": [
    "new_predict_mlp = mlp_learn.predict(predict_new)"
   ]
  },
  {
   "cell_type": "code",
   "execution_count": 26,
   "metadata": {},
   "outputs": [
    {
     "data": {
      "text/plain": [
       "0.3127690100430416"
      ]
     },
     "execution_count": 26,
     "metadata": {},
     "output_type": "execute_result"
    }
   ],
   "source": [
    "from sklearn.metrics import balanced_accuracy_score\n",
    "acc_mlp = balanced_accuracy_score(true_class, new_predict_mlp)\n",
    "acc_mlp"
   ]
  },
  {
   "cell_type": "markdown",
   "metadata": {},
   "source": [
    "# KNN "
   ]
  },
  {
   "cell_type": "code",
   "execution_count": 14,
   "metadata": {},
   "outputs": [
    {
     "name": "stdout",
     "output_type": "stream",
     "text": [
      "KNeighborsClassifier(algorithm='auto', leaf_size=30, metric='manhattan',\n",
      "           metric_params=None, n_jobs=None, n_neighbors=3, p=2,\n",
      "           weights='distance')\n",
      "balanced accuracy = 0.955752258024116\n"
     ]
    }
   ],
   "source": [
    "from sklearn.neighbors import KNeighborsClassifier\n",
    "\n",
    "accknn = []\n",
    "for i in range(10):\n",
    "    neigh = KNeighborsClassifier(metric ='manhattan', n_neighbors= 3, weights = 'distance')\n",
    "    knnfitness = neigh.fit(Xtrain[i], ytrain[i])\n",
    "    knnpredict = neigh.predict(Xtest[i])\n",
    "    acc_knntest = balanced_accuracy_score(ytest[i], knnpredict)\n",
    "    accknn.append(acc_knntest)\n",
    "print(neigh)\n",
    "print(\"balanced accuracy =\", np.mean(accknn))"
   ]
  },
  {
   "cell_type": "code",
   "execution_count": 27,
   "metadata": {},
   "outputs": [],
   "source": [
    "from sklearn.neighbors import KNeighborsClassifier\n",
    "\n",
    "KNN_classifier = KNeighborsClassifier(metric ='manhattan', n_neighbors= 3, weights = 'distance')\n",
    "knn_learn = KNN_classifier.fit(X,y)"
   ]
  },
  {
   "cell_type": "code",
   "execution_count": 31,
   "metadata": {},
   "outputs": [],
   "source": [
    "new_predict_knn = knn_learn.predict(predict_new)"
   ]
  },
  {
   "cell_type": "code",
   "execution_count": 32,
   "metadata": {},
   "outputs": [
    {
     "data": {
      "text/plain": [
       "0.1908177905308465"
      ]
     },
     "execution_count": 32,
     "metadata": {},
     "output_type": "execute_result"
    }
   ],
   "source": [
    "from sklearn.metrics import balanced_accuracy_score\n",
    "acc_knn = balanced_accuracy_score(true_class, new_predict_knn)\n",
    "acc_knn"
   ]
  },
  {
   "cell_type": "markdown",
   "metadata": {},
   "source": [
    "# ANN"
   ]
  },
  {
   "cell_type": "code",
   "execution_count": 12,
   "metadata": {},
   "outputs": [],
   "source": [
    "ground_truth = datanorm.iloc[12:y_test.shape[0]+12, 5].apply(np.ceil).values"
   ]
  },
  {
   "cell_type": "code",
   "execution_count": 13,
   "metadata": {},
   "outputs": [],
   "source": [
    "features = X.values\n",
    "target = y.values"
   ]
  },
  {
   "cell_type": "code",
   "execution_count": 14,
   "metadata": {},
   "outputs": [
    {
     "data": {
      "text/plain": [
       "10"
      ]
     },
     "execution_count": 14,
     "metadata": {},
     "output_type": "execute_result"
    }
   ],
   "source": [
    "len(Xtrain)"
   ]
  },
  {
   "cell_type": "code",
   "execution_count": 15,
   "metadata": {},
   "outputs": [],
   "source": [
    "features_ =[]\n",
    "target_ = []\n",
    "testX = []\n",
    "testy = []\n",
    "for i in range(len(Xtrain)):\n",
    "    values = Xtrain[i].values\n",
    "    features_.append(values)\n",
    "    yvalues = ytrain[i].values\n",
    "    target_.append(yvalues)\n",
    "    xtestval = Xtest[i].values\n",
    "    testX.append(xtestval)\n",
    "    ytestval = ytest[i].values\n",
    "    testy.append(ytestval)"
   ]
  },
  {
   "cell_type": "code",
   "execution_count": 16,
   "metadata": {},
   "outputs": [
    {
     "name": "stderr",
     "output_type": "stream",
     "text": [
      "Using TensorFlow backend.\n"
     ]
    }
   ],
   "source": [
    "import numpy as np\n",
    "from keras import models\n",
    "from keras import layers\n",
    "from keras.wrappers.scikit_learn import KerasClassifier\n",
    "from sklearn.model_selection import cross_val_score\n",
    "from sklearn.datasets import make_classification\n",
    "\n",
    "np.random.seed(0)"
   ]
  },
  {
   "cell_type": "code",
   "execution_count": 17,
   "metadata": {},
   "outputs": [],
   "source": [
    "def create_network():\n",
    "    \n",
    "    network = models.Sequential()\n",
    "\n",
    "    network.add(layers.Dense(units=30, activation='relu', input_shape=(features.shape[1],)))\n",
    "    network.add(layers.Dense(units=1, activation='sigmoid'))\n",
    "\n",
    "    network.compile(loss='binary_crossentropy', # Cross-entropy\n",
    "                    optimizer='rmsprop', # Root Mean Square Propagation\n",
    "                    metrics=['accuracy']) # Accuracy performance metric\n",
    "    \n",
    "    return network"
   ]
  },
  {
   "cell_type": "code",
   "execution_count": 18,
   "metadata": {},
   "outputs": [],
   "source": [
    "neural_network = KerasClassifier(build_fn=create_network, \n",
    "                                 epochs=100, \n",
    "                                 batch_size=100, \n",
    "                                 verbose=0)"
   ]
  },
  {
   "cell_type": "code",
   "execution_count": 34,
   "metadata": {},
   "outputs": [
    {
     "name": "stdout",
     "output_type": "stream",
     "text": [
      "4549/4549 [==============================] - 0s 28us/step\n"
     ]
    },
    {
     "data": {
      "text/plain": [
       "[0.04613453939014128, 0.9909870301165091]"
      ]
     },
     "execution_count": 34,
     "metadata": {},
     "output_type": "execute_result"
    }
   ],
   "source": [
    "model_ann = create_network()                                                                                                                                                 \n",
    "model_ann.fit(features_, target_, epochs=100, batch_size=100, verbose=0)\n",
    "model_ann.evaluate(features, target)"
   ]
  },
  {
   "cell_type": "code",
   "execution_count": 43,
   "metadata": {
    "scrolled": false
   },
   "outputs": [
    {
     "data": {
      "text/plain": [
       "array([[0.70335913, 0.62578684, 0.38967536, 0.58757935, 0.69942474],\n",
       "       [0.7014955 , 0.63097222, 0.38919892, 0.58989282, 0.70396648],\n",
       "       [0.69664819, 0.63538092, 0.38686689, 0.59780977, 0.70632062],\n",
       "       ...,\n",
       "       [0.3298996 , 0.44068965, 0.01009294, 0.64158857, 0.36680829],\n",
       "       [0.32848776, 0.45504951, 0.28532311, 0.66279708, 0.37949745],\n",
       "       [0.34674754, 0.48786156, 0.36940171, 0.73993683, 0.41642802]])"
      ]
     },
     "execution_count": 43,
     "metadata": {},
     "output_type": "execute_result"
    }
   ],
   "source": [
    "features_[0]"
   ]
  },
  {
   "cell_type": "code",
   "execution_count": 20,
   "metadata": {},
   "outputs": [],
   "source": [
    "from sklearn.metrics import balanced_accuracy_score"
   ]
  },
  {
   "cell_type": "code",
   "execution_count": 25,
   "metadata": {},
   "outputs": [],
   "source": [
    "train_acc = []\n",
    "test_acc = []\n",
    "# for i in range(10):\n",
    "for i in range(10):\n",
    "    model_ann = KerasClassifier(build_fn=create_network, \n",
    "                                 epochs=100, \n",
    "                                 batch_size=100, \n",
    "                                 verbose=0)                                                                                                                                             \n",
    "    model_ann.fit(features_[i], target_[i], epochs=100, batch_size=100, verbose=0)\n",
    "    predicted_a = model_ann.predict(features_[i])\n",
    "    train_accuracy = balanced_accuracy_score(target_[i],predicted_a)\n",
    "    train_acc.append(train_accuracy)\n",
    "    test_predict = model_ann.predict(testX[i])\n",
    "    test_accuracy = balanced_accuracy_score(test_predict,testy[i])\n",
    "    test_acc.append(test_accuracy)"
   ]
  },
  {
   "cell_type": "code",
   "execution_count": 26,
   "metadata": {},
   "outputs": [
    {
     "data": {
      "text/plain": [
       "0.9897410563407053"
      ]
     },
     "execution_count": 26,
     "metadata": {},
     "output_type": "execute_result"
    }
   ],
   "source": [
    "np.mean(train_acc)"
   ]
  },
  {
   "cell_type": "code",
   "execution_count": 27,
   "metadata": {},
   "outputs": [
    {
     "data": {
      "text/plain": [
       "0.9876371649552453"
      ]
     },
     "execution_count": 27,
     "metadata": {},
     "output_type": "execute_result"
    }
   ],
   "source": [
    "np.mean(test_acc)"
   ]
  },
  {
   "cell_type": "code",
   "execution_count": 17,
   "metadata": {},
   "outputs": [
    {
     "name": "stdout",
     "output_type": "stream",
     "text": [
      "WARNING:tensorflow:From C:\\Users\\Vicky\\Anaconda3\\envs\\deep\\lib\\site-packages\\tensorflow\\python\\framework\\op_def_library.py:263: colocate_with (from tensorflow.python.framework.ops) is deprecated and will be removed in a future version.\n",
      "Instructions for updating:\n",
      "Colocations handled automatically by placer.\n",
      "WARNING:tensorflow:From C:\\Users\\Vicky\\Anaconda3\\envs\\deep\\lib\\site-packages\\tensorflow\\python\\ops\\math_ops.py:3066: to_int32 (from tensorflow.python.ops.math_ops) is deprecated and will be removed in a future version.\n",
      "Instructions for updating:\n",
      "Use tf.cast instead.\n"
     ]
    }
   ],
   "source": [
    "result = cross_val_score(neural_network, features, target, cv=10)"
   ]
  },
  {
   "cell_type": "code",
   "execution_count": 18,
   "metadata": {},
   "outputs": [
    {
     "data": {
      "text/plain": [
       "0.9868117370768553"
      ]
     },
     "execution_count": 18,
     "metadata": {},
     "output_type": "execute_result"
    }
   ],
   "source": [
    "np.mean(result)"
   ]
  },
  {
   "cell_type": "markdown",
   "metadata": {},
   "source": [
    "## Build ANN Model "
   ]
  },
  {
   "cell_type": "code",
   "execution_count": 23,
   "metadata": {},
   "outputs": [
    {
     "data": {
      "text/plain": [
       "<keras.callbacks.History at 0x247b9694d68>"
      ]
     },
     "execution_count": 23,
     "metadata": {},
     "output_type": "execute_result"
    }
   ],
   "source": [
    "model = create_network()                                                                                                                                                 \n",
    "model.fit(features, target, epochs=100, batch_size=100, verbose=0, validation_split=0.2)"
   ]
  },
  {
   "cell_type": "code",
   "execution_count": 24,
   "metadata": {},
   "outputs": [],
   "source": [
    "data_pred = pd.read_excel('prediction_new_rev.xlsx')\n",
    "result_pred = model.predict(data_pred.values)"
   ]
  },
  {
   "cell_type": "code",
   "execution_count": 25,
   "metadata": {},
   "outputs": [],
   "source": [
    "data_ori = uci_sampling.values[3628: , 0:5]\n",
    "result_clas = model.predict(data_ori)"
   ]
  },
  {
   "cell_type": "code",
   "execution_count": 26,
   "metadata": {},
   "outputs": [
    {
     "data": {
      "text/plain": [
       "0.5"
      ]
     },
     "execution_count": 26,
     "metadata": {},
     "output_type": "execute_result"
    }
   ],
   "source": [
    "from sklearn.metrics import balanced_accuracy_score\n",
    "acc = balanced_accuracy_score(true_class, result_pred)\n",
    "acc"
   ]
  },
  {
   "cell_type": "markdown",
   "metadata": {},
   "source": [
    "# Plot"
   ]
  },
  {
   "cell_type": "code",
   "execution_count": null,
   "metadata": {},
   "outputs": [],
   "source": [
    "p_rf = RFpred\n",
    "p_rf"
   ]
  },
  {
   "cell_type": "code",
   "execution_count": null,
   "metadata": {},
   "outputs": [],
   "source": [
    "import matplotlib.pyplot as plt\n",
    "%matplotlib inline\n",
    "\n",
    "p_occupancy = y_test\n",
    "p_rf = RFpred\n",
    "\n",
    "\n",
    "plt.plot(y_test[:, 0], color='green')\n",
    "plt.plot(predicted_value[:, 0], color= 'red')\n",
    "\n",
    "plt.title(\"Opening price of stocks sold\")\n",
    "plt.xlabel(\"Time (latest-> oldest)\")\n",
    "plt.ylabel(\"Stock Opening Price\")\n",
    "plt.show()"
   ]
  }
 ],
 "metadata": {
  "kernelspec": {
   "display_name": "Python 3",
   "language": "python",
   "name": "python3"
  },
  "language_info": {
   "codemirror_mode": {
    "name": "ipython",
    "version": 3
   },
   "file_extension": ".py",
   "mimetype": "text/x-python",
   "name": "python",
   "nbconvert_exporter": "python",
   "pygments_lexer": "ipython3",
   "version": "3.6.8"
  }
 },
 "nbformat": 4,
 "nbformat_minor": 2
}
